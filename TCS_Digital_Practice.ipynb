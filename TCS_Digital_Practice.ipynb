{
  "nbformat": 4,
  "nbformat_minor": 0,
  "metadata": {
    "colab": {
      "name": "TCS Digital Practice.ipynb",
      "provenance": [],
      "authorship_tag": "ABX9TyPC/15urAFiM2wVcbSCGg9y",
      "include_colab_link": true
    },
    "kernelspec": {
      "name": "python3",
      "display_name": "Python 3"
    }
  },
  "cells": [
    {
      "cell_type": "markdown",
      "metadata": {
        "id": "view-in-github",
        "colab_type": "text"
      },
      "source": [
        "<a href=\"https://colab.research.google.com/github/Uponika/Fault-Classification/blob/master/TCS_Digital_Practice.ipynb\" target=\"_parent\"><img src=\"https://colab.research.google.com/assets/colab-badge.svg\" alt=\"Open In Colab\"/></a>"
      ]
    },
    {
      "cell_type": "code",
      "metadata": {
        "colab": {
          "base_uri": "https://localhost:8080/"
        },
        "id": "x3_OnP8hfW0D",
        "outputId": "3f644e51-d391-4a70-e657-8c39f90b5b59"
      },
      "source": [
        "n = int(input())\r\n",
        "if(n%2 == 1):\r\n",
        "      print(\"Weird\")\r\n",
        "elif((n%2 == 0) and (n >= 2 ) and (n<=5)):\r\n",
        "      print(\"Not Weird\")\r\n",
        "elif((n%2 == 0) and (n >= 6 ) and (n<=20)):\r\n",
        "      print(\"Weird\")\r\n",
        "elif((n%2==0) and (n>20)):\r\n",
        "      print(\"Not Weird\")"
      ],
      "execution_count": null,
      "outputs": [
        {
          "output_type": "stream",
          "text": [
            "5\n",
            "Weird\n"
          ],
          "name": "stdout"
        }
      ]
    },
    {
      "cell_type": "code",
      "metadata": {
        "id": "UBSTMFDCgREt"
      },
      "source": [
        "if n%2 =!0:\r\n",
        "  print(\"Weird\")\r\n",
        "elif "
      ],
      "execution_count": null,
      "outputs": []
    },
    {
      "cell_type": "code",
      "metadata": {
        "colab": {
          "base_uri": "https://localhost:8080/"
        },
        "id": "Sk4jtyZnfhKK",
        "outputId": "f74e1ce5-76c8-4d0b-91f2-bd72354a2817"
      },
      "source": [
        "a = int(input())\r\n",
        "b = int(input())\r\n",
        "print(a+b)\r\n",
        "print(a-b)\r\n",
        "print(a*b)"
      ],
      "execution_count": null,
      "outputs": [
        {
          "output_type": "stream",
          "text": [
            "5\n",
            "3\n",
            "8\n",
            "2\n",
            "15\n"
          ],
          "name": "stdout"
        }
      ]
    },
    {
      "cell_type": "code",
      "metadata": {
        "colab": {
          "base_uri": "https://localhost:8080/"
        },
        "id": "pX4vqlSRhNTC",
        "outputId": "e818eaf6-09a2-4f3f-ee67-54480f3ef5bc"
      },
      "source": [
        "a,b, c = list(map(int,input().split()))\r\n",
        "a"
      ],
      "execution_count": null,
      "outputs": [
        {
          "output_type": "stream",
          "text": [
            "10 2 3\n"
          ],
          "name": "stdout"
        },
        {
          "output_type": "execute_result",
          "data": {
            "text/plain": [
              "10"
            ]
          },
          "metadata": {
            "tags": []
          },
          "execution_count": 14
        }
      ]
    },
    {
      "cell_type": "code",
      "metadata": {
        "id": "OOfRz3ckhg8x"
      },
      "source": [
        "\r\n",
        "c,d = 20,50"
      ],
      "execution_count": null,
      "outputs": []
    },
    {
      "cell_type": "code",
      "metadata": {
        "colab": {
          "base_uri": "https://localhost:8080/"
        },
        "id": "J_MTv7EWj7tM",
        "outputId": "b34ba87e-5e07-4f27-cb9f-43801226be79"
      },
      "source": [
        "n = int(input())\r\n",
        "stu = {}\r\n",
        "for i in range(n):\r\n",
        "  names = input()\r\n",
        "  scores = list(map(float, input().split()))\r\n",
        "  stu[names] = scores"
      ],
      "execution_count": null,
      "outputs": [
        {
          "output_type": "stream",
          "text": [
            "2\n",
            "sumit\n",
            "10 20 30\n",
            "upo\n",
            "100 100 100\n"
          ],
          "name": "stdout"
        }
      ]
    },
    {
      "cell_type": "code",
      "metadata": {
        "colab": {
          "base_uri": "https://localhost:8080/"
        },
        "id": "0Sh_-aZFkRhj",
        "outputId": "2b215b76-e489-4dbc-8e53-0ec0de3bead4"
      },
      "source": [
        "stu"
      ],
      "execution_count": null,
      "outputs": [
        {
          "output_type": "execute_result",
          "data": {
            "text/plain": [
              "{'sumit': [10.0, 20.0, 30.0], 'upo': [100.0, 100.0, 100.0]}"
            ]
          },
          "metadata": {
            "tags": []
          },
          "execution_count": 34
        }
      ]
    },
    {
      "cell_type": "code",
      "metadata": {
        "colab": {
          "base_uri": "https://localhost:8080/"
        },
        "id": "Qqdwz3pomV6L",
        "outputId": "94ff65c7-5d0d-4a7c-cb15-34b146d00ade"
      },
      "source": [
        "query = input()\r\n",
        "scores = stu[query]\r\n",
        "avg = round(sum(scores)/len(scores))\r\n",
        "print(\"{:.2f}\".format(avg))"
      ],
      "execution_count": null,
      "outputs": [
        {
          "output_type": "stream",
          "text": [
            "upo\n",
            "100.00\n"
          ],
          "name": "stdout"
        }
      ]
    },
    {
      "cell_type": "code",
      "metadata": {
        "colab": {
          "base_uri": "https://localhost:8080/"
        },
        "id": "lPtFErGpmWlM",
        "outputId": "ea1edf1c-6f3a-4c8f-cf38-58aafa82e2de"
      },
      "source": [
        "lst = [1,2,3,4,5,6,78]\r\n",
        "print(lst[4:2:-1])"
      ],
      "execution_count": null,
      "outputs": [
        {
          "output_type": "stream",
          "text": [
            "[5, 4]\n"
          ],
          "name": "stdout"
        }
      ]
    },
    {
      "cell_type": "code",
      "metadata": {
        "colab": {
          "base_uri": "https://localhost:8080/"
        },
        "id": "D_2GgYMqsEvX",
        "outputId": "f2871e8e-6071-44b9-af05-b4f04b2943e9"
      },
      "source": [
        "if __name__ == '__main__':\r\n",
        "    n = int(input())"
      ],
      "execution_count": null,
      "outputs": [
        {
          "output_type": "stream",
          "text": [
            "10\n"
          ],
          "name": "stdout"
        }
      ]
    },
    {
      "cell_type": "code",
      "metadata": {
        "colab": {
          "base_uri": "https://localhost:8080/"
        },
        "id": "bG2Kq6xYysQX",
        "outputId": "494dc95a-81fd-42ca-bc37-41a4da3522f7"
      },
      "source": [
        "if __name__== '__main__':\r\n",
        "  n = int(input())\r\n",
        "  for i in range(1, n+1):\r\n",
        "    print(i, end = '')"
      ],
      "execution_count": null,
      "outputs": [
        {
          "output_type": "stream",
          "text": [
            "5\n",
            "12345"
          ],
          "name": "stdout"
        }
      ]
    },
    {
      "cell_type": "code",
      "metadata": {
        "colab": {
          "base_uri": "https://localhost:8080/"
        },
        "id": "BUSNwBXs0FqM",
        "outputId": "d88d8e4d-2285-4813-b006-f09d7a680e55"
      },
      "source": [
        "if __name__ == '__main__':\r\n",
        "    n = int(input())\r\n",
        "    a = []\r\n",
        "    arr = list(map(int, input().strip().split()))\r\n",
        "\r\n",
        "    print(a)"
      ],
      "execution_count": null,
      "outputs": [
        {
          "output_type": "stream",
          "text": [
            "5\n",
            "2\n",
            "[]\n"
          ],
          "name": "stdout"
        }
      ]
    },
    {
      "cell_type": "code",
      "metadata": {
        "colab": {
          "base_uri": "https://localhost:8080/"
        },
        "id": "d6V9zDvv-dh0",
        "outputId": "e370c548-d817-4377-dd86-de00b2a138f3"
      },
      "source": [
        "if __name__ == '__main__':\r\n",
        "    n = int(input())\r\n",
        "    arr = map(int, input().split())\r\n",
        "    "
      ],
      "execution_count": null,
      "outputs": [
        {
          "output_type": "stream",
          "text": [
            "2\n",
            "3\n"
          ],
          "name": "stdout"
        }
      ]
    },
    {
      "cell_type": "code",
      "metadata": {
        "colab": {
          "base_uri": "https://localhost:8080/"
        },
        "id": "ylJ8F0U9_cIg",
        "outputId": "52593c40-a4bb-4d0c-f8a0-09c9f291a0f1"
      },
      "source": [
        "x = [int(x) for x in input(\"Enter multiple value: \").split()]\r\n",
        "print(\"Number of list is: \", x)"
      ],
      "execution_count": null,
      "outputs": [
        {
          "output_type": "stream",
          "text": [
            "Enter multiple value: 1 2 3 4 5\n",
            "Number of list is:  [1, 2, 3, 4, 5]\n"
          ],
          "name": "stdout"
        }
      ]
    },
    {
      "cell_type": "code",
      "metadata": {
        "colab": {
          "base_uri": "https://localhost:8080/"
        },
        "id": "Ezic4POCDZEd",
        "outputId": "9cb2ac94-73a0-4131-ad31-ba2c9f64529e"
      },
      "source": [
        "if __name__ == '__main__':\r\n",
        "  n = int(input())\r\n",
        "  l = list(map(int, input().split()))\r\n"
      ],
      "execution_count": null,
      "outputs": [
        {
          "output_type": "stream",
          "text": [
            "5\n",
            "1 2 2 8 9 10 12 8\n"
          ],
          "name": "stdout"
        }
      ]
    },
    {
      "cell_type": "code",
      "metadata": {
        "colab": {
          "base_uri": "https://localhost:8080/"
        },
        "id": "LGSwMA2cYOFi",
        "outputId": "da946995-e15d-43c8-f201-850871d51007"
      },
      "source": [
        "print(list(l))"
      ],
      "execution_count": null,
      "outputs": [
        {
          "output_type": "stream",
          "text": [
            "[1, 2, 2, 8, 9, 10, 12, 8]\n"
          ],
          "name": "stdout"
        }
      ]
    },
    {
      "cell_type": "code",
      "metadata": {
        "colab": {
          "base_uri": "https://localhost:8080/"
        },
        "id": "SiJP-QGAYb4R",
        "outputId": "c9ffbcf6-d3e9-43c7-dc40-e7b7a6714257"
      },
      "source": [
        "new_list = set(l)\r\n",
        "new_list.remove(max(new_list))\r\n",
        "print(max(new_list))"
      ],
      "execution_count": null,
      "outputs": [
        {
          "output_type": "stream",
          "text": [
            "10\n"
          ],
          "name": "stdout"
        }
      ]
    },
    {
      "cell_type": "code",
      "metadata": {
        "colab": {
          "base_uri": "https://localhost:8080/",
          "height": 214
        },
        "id": "Z7hj-UiNXU1E",
        "outputId": "71277613-52c7-45bc-ed99-2e6d5d54950e"
      },
      "source": [
        "  l = l[0:n]\r\n",
        "  l = set(l)\r\n",
        "  l = l.max(l)\r\n",
        "  print(l)"
      ],
      "execution_count": null,
      "outputs": [
        {
          "output_type": "error",
          "ename": "AttributeError",
          "evalue": "ignored",
          "traceback": [
            "\u001b[0;31m---------------------------------------------------------------------------\u001b[0m",
            "\u001b[0;31mAttributeError\u001b[0m                            Traceback (most recent call last)",
            "\u001b[0;32m<ipython-input-26-eb752eb6c023>\u001b[0m in \u001b[0;36m<module>\u001b[0;34m()\u001b[0m\n\u001b[1;32m      1\u001b[0m \u001b[0ml\u001b[0m \u001b[0;34m=\u001b[0m \u001b[0ml\u001b[0m\u001b[0;34m[\u001b[0m\u001b[0;36m0\u001b[0m\u001b[0;34m:\u001b[0m\u001b[0mn\u001b[0m\u001b[0;34m]\u001b[0m\u001b[0;34m\u001b[0m\u001b[0;34m\u001b[0m\u001b[0m\n\u001b[1;32m      2\u001b[0m \u001b[0ml\u001b[0m \u001b[0;34m=\u001b[0m \u001b[0mset\u001b[0m\u001b[0;34m(\u001b[0m\u001b[0ml\u001b[0m\u001b[0;34m)\u001b[0m\u001b[0;34m\u001b[0m\u001b[0;34m\u001b[0m\u001b[0m\n\u001b[0;32m----> 3\u001b[0;31m \u001b[0ml\u001b[0m \u001b[0;34m=\u001b[0m \u001b[0ml\u001b[0m\u001b[0;34m.\u001b[0m\u001b[0mmax\u001b[0m\u001b[0;34m(\u001b[0m\u001b[0ml\u001b[0m\u001b[0;34m)\u001b[0m\u001b[0;34m\u001b[0m\u001b[0;34m\u001b[0m\u001b[0m\n\u001b[0m\u001b[1;32m      4\u001b[0m \u001b[0mprint\u001b[0m\u001b[0;34m(\u001b[0m\u001b[0ml\u001b[0m\u001b[0;34m)\u001b[0m\u001b[0;34m\u001b[0m\u001b[0;34m\u001b[0m\u001b[0m\n",
            "\u001b[0;31mAttributeError\u001b[0m: 'set' object has no attribute 'max'"
          ]
        }
      ]
    },
    {
      "cell_type": "code",
      "metadata": {
        "colab": {
          "base_uri": "https://localhost:8080/"
        },
        "id": "2OB0XwuGXAqS",
        "outputId": "be0bfbee-0af4-4711-f889-911381ce0ffd"
      },
      "source": [
        "# Python program to find second largest\r\n",
        "# number in a list\r\n",
        "\r\n",
        "# list of numbers\r\n",
        "list1 = [10, 20, 4, 45, 99]\r\n",
        "\r\n",
        "# new_list is a set of list1\r\n",
        "new_list = set(list1)\r\n",
        "\r\n",
        "# removing the largest element from temp list\r\n",
        "new_list.remove(max(new_list))\r\n",
        "\r\n",
        "# elements in original list are not changed\r\n",
        "# print(list1)\r\n",
        "\r\n",
        "print(max(new_list))\r\n"
      ],
      "execution_count": null,
      "outputs": [
        {
          "output_type": "stream",
          "text": [
            "45\n"
          ],
          "name": "stdout"
        }
      ]
    },
    {
      "cell_type": "code",
      "metadata": {
        "colab": {
          "base_uri": "https://localhost:8080/"
        },
        "id": "ArectL2-SVzP",
        "outputId": "b32554e4-57f8-478c-8162-333193b2268b"
      },
      "source": [
        "l = list(map(int, input().split()))\r\n",
        "print(l[0:5])"
      ],
      "execution_count": null,
      "outputs": [
        {
          "output_type": "stream",
          "text": [
            "1 2 3 4 5 6 7 8 9 1 011 12\n",
            "[1, 2, 3, 4, 5]\n"
          ],
          "name": "stdout"
        }
      ]
    },
    {
      "cell_type": "code",
      "metadata": {
        "colab": {
          "base_uri": "https://localhost:8080/"
        },
        "id": "h86HxCxWUC1f",
        "outputId": "cfc28c8d-3e8b-4b62-ca01-20b39c4e85bb"
      },
      "source": [
        "n = int(input())\r\n",
        "ar = []\r\n",
        "for i in range(n):\r\n",
        "  ar.append(list(map(int,input().split())))\r\n",
        "print(ar)"
      ],
      "execution_count": null,
      "outputs": [
        {
          "output_type": "stream",
          "text": [
            "3\n",
            "1 2 3 \n",
            "4 5 6\n",
            "7 8 9\n",
            "[[1, 2, 3], [4, 5, 6], [7, 8, 9]]\n"
          ],
          "name": "stdout"
        }
      ]
    },
    {
      "cell_type": "code",
      "metadata": {
        "colab": {
          "base_uri": "https://localhost:8080/"
        },
        "id": "Uyue59Yciu2A",
        "outputId": "1c61110a-4d79-481d-f869-9bd1fe400c79"
      },
      "source": [
        "left = 0\r\n",
        "right = 0\r\n",
        "diff = 0\r\n",
        "for i in range(0,n):\r\n",
        "  for j in range(0,n):\r\n",
        "    if(i == j):\r\n",
        "      left += ar[i][j]\r\n",
        "    if(i+j == n-1):\r\n",
        "      right += ar[i][j]\r\n",
        "diff = abs(left-right)\r\n",
        "print(diff)\r\n",
        "print(left)\r\n",
        "print(right)"
      ],
      "execution_count": null,
      "outputs": [
        {
          "output_type": "stream",
          "text": [
            "0\n",
            "15\n",
            "15\n"
          ],
          "name": "stdout"
        }
      ]
    },
    {
      "cell_type": "code",
      "metadata": {
        "colab": {
          "base_uri": "https://localhost:8080/"
        },
        "id": "ffzvD9epjbgR",
        "outputId": "83aa741b-5d08-4fe9-d614-14632455a6e1"
      },
      "source": [
        "n = int(input())\r\n",
        "l = list(map(int, input().split()))"
      ],
      "execution_count": null,
      "outputs": [
        {
          "output_type": "stream",
          "text": [
            "6\n",
            "-4 3 -9 0 4 1\n"
          ],
          "name": "stdout"
        }
      ]
    },
    {
      "cell_type": "code",
      "metadata": {
        "colab": {
          "base_uri": "https://localhost:8080/"
        },
        "id": "duaDvAl5k5vl",
        "outputId": "cb093e56-16cb-49a6-c6fa-2db32239a8df"
      },
      "source": [
        "np = 0\r\n",
        "nn = 0\r\n",
        "nz = 0\r\n",
        "for i in range(0,n):\r\n",
        "  if(l[i]>0):\r\n",
        "    np = np + 1\r\n",
        "  elif(l[i]<0):\r\n",
        "    nn = nn +1\r\n",
        "  else:\r\n",
        "    nz = nz+1\r\n",
        "print(\"{:.6f}\".format(np/n))\r\n",
        "print(\"{:.6f}\".format(nn/n))\r\n",
        "print(\"{:.6f}\".format(nz/n))"
      ],
      "execution_count": null,
      "outputs": [
        {
          "output_type": "stream",
          "text": [
            "0.500000\n",
            "0.333333\n",
            "0.166667\n"
          ],
          "name": "stdout"
        }
      ]
    },
    {
      "cell_type": "code",
      "metadata": {
        "colab": {
          "base_uri": "https://localhost:8080/"
        },
        "id": "HR9jBX-LtDmI",
        "outputId": "e046f91e-0ecd-4684-ebe7-1e5fe3559ce9"
      },
      "source": [
        "n = int(input())\r\n",
        "for i in range(1, n+1):\r\n",
        "  print(' '*(n-i) + '#'*i)\r\n"
      ],
      "execution_count": null,
      "outputs": [
        {
          "output_type": "stream",
          "text": [
            "4\n",
            "   #\n",
            "  ##\n",
            " ###\n",
            "####\n"
          ],
          "name": "stdout"
        }
      ]
    },
    {
      "cell_type": "code",
      "metadata": {
        "colab": {
          "base_uri": "https://localhost:8080/"
        },
        "id": "vu93OhXutR4a",
        "outputId": "dea61f7c-9749-4a3f-dfe8-09c3edf8d047"
      },
      "source": [
        "n = int(input())\r\n",
        "l = list(map(int, input().split()))\r\n"
      ],
      "execution_count": null,
      "outputs": [
        {
          "output_type": "stream",
          "text": [
            "5\n",
            "1 5 8 2 5\n"
          ],
          "name": "stdout"
        }
      ]
    },
    {
      "cell_type": "code",
      "metadata": {
        "colab": {
          "base_uri": "https://localhost:8080/"
        },
        "id": "_Euv2clLu0HG",
        "outputId": "732a1030-aa7b-4f59-8762-1a76666a9600"
      },
      "source": [
        "l.sort()\r\n",
        "print(l)"
      ],
      "execution_count": null,
      "outputs": [
        {
          "output_type": "stream",
          "text": [
            "[1, 2, 5, 5, 8]\n"
          ],
          "name": "stdout"
        }
      ]
    },
    {
      "cell_type": "code",
      "metadata": {
        "colab": {
          "base_uri": "https://localhost:8080/"
        },
        "id": "Mla_7JEsuOsK",
        "outputId": "e4fb407b-d7ff-4c7e-949b-e760e6551089"
      },
      "source": [
        "l.sort()\r\n",
        "min =0\r\n",
        "max = 0\r\n",
        "l2 = l[0:(n-1)]\r\n",
        "l3 = l[n-(n-1)::]\r\n",
        "for i in range(len(l2)):\r\n",
        "  min += l2[i]\r\n",
        "for j in range(len(l3)):\r\n",
        "  max += l3[j]\r\n",
        "print(min,\" \",max)"
      ],
      "execution_count": null,
      "outputs": [
        {
          "output_type": "stream",
          "text": [
            "[1, 2, 5, 5]   [2, 5, 5, 8]\n",
            "13   20\n"
          ],
          "name": "stdout"
        }
      ]
    },
    {
      "cell_type": "code",
      "metadata": {
        "id": "YG2lkFgEug_I",
        "colab": {
          "base_uri": "https://localhost:8080/"
        },
        "outputId": "6ce4378e-3000-4123-cf02-9f3f38020034"
      },
      "source": [
        "st = list(map(str, input().split()))"
      ],
      "execution_count": null,
      "outputs": [
        {
          "output_type": "stream",
          "text": [
            "sumit 10.0\n"
          ],
          "name": "stdout"
        }
      ]
    },
    {
      "cell_type": "code",
      "metadata": {
        "colab": {
          "base_uri": "https://localhost:8080/"
        },
        "id": "qmKp8qmLLOq9",
        "outputId": "cb1ddbd3-4bdc-465f-d2d3-d4fb985f809f"
      },
      "source": [
        "print(st)"
      ],
      "execution_count": null,
      "outputs": [
        {
          "output_type": "stream",
          "text": [
            "['sumit', '10.0']\n"
          ],
          "name": "stdout"
        }
      ]
    },
    {
      "cell_type": "code",
      "metadata": {
        "id": "aSyumrsJLiMc"
      },
      "source": [
        "val = st[1]"
      ],
      "execution_count": null,
      "outputs": []
    },
    {
      "cell_type": "code",
      "metadata": {
        "colab": {
          "base_uri": "https://localhost:8080/"
        },
        "id": "wCSS7PTkLztq",
        "outputId": "67d681fd-36ec-4734-d9ab-f2a7f2c9af91"
      },
      "source": [
        "print(val)"
      ],
      "execution_count": null,
      "outputs": [
        {
          "output_type": "stream",
          "text": [
            "10.0\n"
          ],
          "name": "stdout"
        }
      ]
    },
    {
      "cell_type": "code",
      "metadata": {
        "id": "G8Z4ITcFL8hN"
      },
      "source": [
        "val = float(val)"
      ],
      "execution_count": null,
      "outputs": []
    },
    {
      "cell_type": "code",
      "metadata": {
        "colab": {
          "base_uri": "https://localhost:8080/",
          "height": 248
        },
        "id": "P7rbGAHmL-0E",
        "outputId": "4ad30623-c8f6-4c1e-e200-b16173c76c77"
      },
      "source": [
        "n=int(input())\r\n",
        "for i in range(n):\r\n",
        "  m = [[input().split(), float(input())]]"
      ],
      "execution_count": null,
      "outputs": [
        {
          "output_type": "stream",
          "text": [
            "2\n",
            "sumit 10.0\n",
            "upo 15.0\n"
          ],
          "name": "stdout"
        },
        {
          "output_type": "error",
          "ename": "ValueError",
          "evalue": "ignored",
          "traceback": [
            "\u001b[0;31m---------------------------------------------------------------------------\u001b[0m",
            "\u001b[0;31mValueError\u001b[0m                                Traceback (most recent call last)",
            "\u001b[0;32m<ipython-input-30-2c6853f956ae>\u001b[0m in \u001b[0;36m<module>\u001b[0;34m()\u001b[0m\n\u001b[1;32m      1\u001b[0m \u001b[0mn\u001b[0m\u001b[0;34m=\u001b[0m\u001b[0mint\u001b[0m\u001b[0;34m(\u001b[0m\u001b[0minput\u001b[0m\u001b[0;34m(\u001b[0m\u001b[0;34m)\u001b[0m\u001b[0;34m)\u001b[0m\u001b[0;34m\u001b[0m\u001b[0;34m\u001b[0m\u001b[0m\n\u001b[1;32m      2\u001b[0m \u001b[0;32mfor\u001b[0m \u001b[0mi\u001b[0m \u001b[0;32min\u001b[0m \u001b[0mrange\u001b[0m\u001b[0;34m(\u001b[0m\u001b[0mn\u001b[0m\u001b[0;34m)\u001b[0m\u001b[0;34m:\u001b[0m\u001b[0;34m\u001b[0m\u001b[0;34m\u001b[0m\u001b[0m\n\u001b[0;32m----> 3\u001b[0;31m   \u001b[0mm\u001b[0m \u001b[0;34m=\u001b[0m \u001b[0;34m[\u001b[0m\u001b[0;34m[\u001b[0m\u001b[0minput\u001b[0m\u001b[0;34m(\u001b[0m\u001b[0;34m)\u001b[0m\u001b[0;34m.\u001b[0m\u001b[0msplit\u001b[0m\u001b[0;34m(\u001b[0m\u001b[0;34m)\u001b[0m\u001b[0;34m,\u001b[0m \u001b[0mfloat\u001b[0m\u001b[0;34m(\u001b[0m\u001b[0minput\u001b[0m\u001b[0;34m(\u001b[0m\u001b[0;34m)\u001b[0m\u001b[0;34m)\u001b[0m\u001b[0;34m]\u001b[0m\u001b[0;34m]\u001b[0m\u001b[0;34m\u001b[0m\u001b[0;34m\u001b[0m\u001b[0m\n\u001b[0m",
            "\u001b[0;31mValueError\u001b[0m: could not convert string to float: 'upo 15.0'"
          ]
        }
      ]
    },
    {
      "cell_type": "code",
      "metadata": {
        "colab": {
          "base_uri": "https://localhost:8080/"
        },
        "id": "3PWF2tnVvB6z",
        "outputId": "7399b493-80b6-42c7-dc81-d402ad4e3d56"
      },
      "source": [
        "def is_prime(n):\r\n",
        "  flag = 0\r\n",
        "  for i in range(2, int(n/2)):\r\n",
        "    if(n%i == 0):\r\n",
        "      flag = flag + 1\r\n",
        "    \r\n",
        "  if(flag == 0):\r\n",
        "      print(n,\"is a prime number\")\r\n",
        "  else:\r\n",
        "      print(n,\"is not a prime number\")\r\n",
        "\r\n",
        "n = int(input())\r\n",
        "if(n > 0):\r\n",
        "  is_prime(n)\r\n",
        "else:\r\n",
        "  print(\"Please print a positive number\")\r\n"
      ],
      "execution_count": null,
      "outputs": [
        {
          "output_type": "stream",
          "text": [
            "89\n",
            "89 is a prime number\n"
          ],
          "name": "stdout"
        }
      ]
    },
    {
      "cell_type": "code",
      "metadata": {
        "colab": {
          "base_uri": "https://localhost:8080/"
        },
        "id": "0QWxQxKlvB-x",
        "outputId": "2ddb3bc7-3681-4e39-c6da-7709ceb94ab3"
      },
      "source": [
        "num = int(input())\r\n",
        "\r\n",
        "a=0\r\n",
        "\r\n",
        "b=0\r\n",
        "\r\n",
        "for i in range(1,num+1):\r\n",
        "\r\n",
        "    if(i%2!=0):\r\n",
        "\r\n",
        "        a= a+7\r\n",
        "\r\n",
        "    else:\r\n",
        "\r\n",
        "        b = b+6\r\n",
        "\r\n",
        "if(num%2!=0):\r\n",
        "\r\n",
        "    print(' {} term of series is {}'.format(num,a-7))\r\n",
        "\r\n",
        "else:\r\n",
        "\r\n",
        "    print('{} term of series is {}'.format(num,b-6))"
      ],
      "execution_count": null,
      "outputs": [
        {
          "output_type": "stream",
          "text": [
            "15\n",
            " 15 term of series is 49\n"
          ],
          "name": "stdout"
        }
      ]
    },
    {
      "cell_type": "markdown",
      "metadata": {
        "id": "Vnzd00v-A0du"
      },
      "source": [
        "**Strings**"
      ]
    },
    {
      "cell_type": "code",
      "metadata": {
        "id": "q12OFAL3vCCG"
      },
      "source": [
        "s = \"Hello World\"\r\n",
        "s = s.swapcase()"
      ],
      "execution_count": null,
      "outputs": []
    },
    {
      "cell_type": "code",
      "metadata": {
        "colab": {
          "base_uri": "https://localhost:8080/"
        },
        "id": "27qtqCkqvCE9",
        "outputId": "96bc60ee-766b-48ef-f271-1c21c22badcb"
      },
      "source": [
        "print(s)"
      ],
      "execution_count": null,
      "outputs": [
        {
          "output_type": "stream",
          "text": [
            "hELLO wORLD\n"
          ],
          "name": "stdout"
        }
      ]
    },
    {
      "cell_type": "code",
      "metadata": {
        "colab": {
          "base_uri": "https://localhost:8080/"
        },
        "id": "ooN1VF1_vCHw",
        "outputId": "54573f54-05bd-46eb-c130-f649fe84f5c9"
      },
      "source": [
        "s = \"this is a string\"\r\n",
        "s = s.split(' ')\r\n",
        "s = '-'.join(s)\r\n",
        "print(s)"
      ],
      "execution_count": null,
      "outputs": [
        {
          "output_type": "stream",
          "text": [
            "this-is-a-string\n"
          ],
          "name": "stdout"
        }
      ]
    },
    {
      "cell_type": "code",
      "metadata": {
        "colab": {
          "base_uri": "https://localhost:8080/"
        },
        "id": "uon7nM-XM_-a",
        "outputId": "99cc8adb-c00d-47da-e223-c97f329666a8"
      },
      "source": [
        "n = input()\r\n",
        "val = int(input())\r\n",
        "ch = input()\r\n",
        " \r\n",
        "l = list(n)\r\n",
        "l[val]= ch\r\n",
        "string = ''.join(l)\r\n"
      ],
      "execution_count": null,
      "outputs": [
        {
          "output_type": "stream",
          "text": [
            "abcdefg\n",
            "4\n",
            "k\n"
          ],
          "name": "stdout"
        }
      ]
    },
    {
      "cell_type": "code",
      "metadata": {
        "id": "EI_eq1LyQkJx",
        "colab": {
          "base_uri": "https://localhost:8080/"
        },
        "outputId": "a8d44e1d-78b6-4cef-e6ca-5864e96f2c2b"
      },
      "source": [
        "print(string)"
      ],
      "execution_count": null,
      "outputs": [
        {
          "output_type": "stream",
          "text": [
            "abcdkfg\n"
          ],
          "name": "stdout"
        }
      ]
    },
    {
      "cell_type": "code",
      "metadata": {
        "colab": {
          "base_uri": "https://localhost:8080/"
        },
        "id": "BVvXIWqrFhVX",
        "outputId": "f1e8a9c4-a3f8-445c-e244-8a8392559a36"
      },
      "source": [
        "n1 = input()\r\n",
        "n2 = input()\r\n"
      ],
      "execution_count": null,
      "outputs": [
        {
          "output_type": "stream",
          "text": [
            "abvfgcvfguio\n",
            "vfg\n",
            "2\n"
          ],
          "name": "stdout"
        }
      ]
    },
    {
      "cell_type": "code",
      "metadata": {
        "colab": {
          "base_uri": "https://localhost:8080/"
        },
        "id": "wWuj6Gz9u0Ad",
        "outputId": "c6e12cef-6c41-438c-f24b-2720a42fd536"
      },
      "source": [
        "c = 0\r\n",
        "for i in range(0, len(n1)):\r\n",
        "  if(n1[i:].startswith(n2)):\r\n",
        "    c = c+1\r\n",
        "print(c)"
      ],
      "execution_count": null,
      "outputs": [
        {
          "output_type": "stream",
          "text": [
            "2\n"
          ],
          "name": "stdout"
        }
      ]
    },
    {
      "cell_type": "code",
      "metadata": {
        "id": "V49ZCHyS1So-"
      },
      "source": [
        ""
      ],
      "execution_count": null,
      "outputs": []
    },
    {
      "cell_type": "code",
      "metadata": {
        "colab": {
          "base_uri": "https://localhost:8080/"
        },
        "id": "ub8SMV8b1aiI",
        "outputId": "c1e8493e-3727-4af0-997d-f06fdf06f77e"
      },
      "source": [
        ""
      ],
      "execution_count": null,
      "outputs": [
        {
          "output_type": "stream",
          "text": [
            "[<list_iterator object at 0x7fc9180a2470>, <list_iterator object at 0x7fc9180a2d30>, <list_iterator object at 0x7fc91a58f2e8>]\n"
          ],
          "name": "stdout"
        }
      ]
    },
    {
      "cell_type": "code",
      "metadata": {
        "id": "pNnanXSw1cp5"
      },
      "source": [
        ""
      ],
      "execution_count": null,
      "outputs": []
    },
    {
      "cell_type": "markdown",
      "metadata": {
        "id": "0-3byWTWHFRD"
      },
      "source": [
        "Sample check\r\n"
      ]
    },
    {
      "cell_type": "code",
      "metadata": {
        "id": "zMSd33x4HHAH"
      },
      "source": [
        "import pandas as pd\r\n",
        "import os\r\n"
      ],
      "execution_count": null,
      "outputs": []
    },
    {
      "cell_type": "code",
      "metadata": {
        "id": "wtF-4P8cHKsI"
      },
      "source": [
        "working_directory = '/content/sample_data/'"
      ],
      "execution_count": null,
      "outputs": []
    },
    {
      "cell_type": "code",
      "metadata": {
        "id": "XZNV7p1BHV1a"
      },
      "source": [
        "current = os.path.abspath(working_directory)\r\n"
      ],
      "execution_count": null,
      "outputs": []
    },
    {
      "cell_type": "code",
      "metadata": {
        "colab": {
          "base_uri": "https://localhost:8080/"
        },
        "id": "bKRr_LMPHeas",
        "outputId": "e44eeaa8-dfac-4e2f-ed6b-59cce44e1a93"
      },
      "source": [
        "print(working_directory)"
      ],
      "execution_count": null,
      "outputs": [
        {
          "output_type": "stream",
          "text": [
            "/content/sample_data/\n"
          ],
          "name": "stdout"
        }
      ]
    },
    {
      "cell_type": "code",
      "metadata": {
        "id": "5W0FCQsfHppC"
      },
      "source": [
        "files = os.listdir(working_directory)"
      ],
      "execution_count": null,
      "outputs": []
    },
    {
      "cell_type": "code",
      "metadata": {
        "colab": {
          "base_uri": "https://localhost:8080/"
        },
        "id": "KB8nyioNHz57",
        "outputId": "8324d1d8-c978-4e0c-c723-1d179f7540cc"
      },
      "source": [
        "print(files)"
      ],
      "execution_count": null,
      "outputs": [
        {
          "output_type": "stream",
          "text": [
            "['anscombe.json', 'README.md', 'mnist_train_small.csv', 'california_housing_train.csv', 'california_housing_test.csv', 'mnist_test.csv']\n"
          ],
          "name": "stdout"
        }
      ]
    },
    {
      "cell_type": "code",
      "metadata": {
        "colab": {
          "base_uri": "https://localhost:8080/"
        },
        "id": "tV1pGAkAItZ1",
        "outputId": "0be28644-d1fb-46cd-e68a-887262d282cf"
      },
      "source": [
        "s = 'ABCDEFGHIJKLMNOPQ'\r\n",
        "d = []\r\n",
        "for i in range(0,len(s),4):\r\n",
        "  d.append(s[i:i+4])\r\n",
        "print('\\n'.join(map(str, d)))\r\n"
      ],
      "execution_count": null,
      "outputs": [
        {
          "output_type": "stream",
          "text": [
            "ABCD\n",
            "EFGH\n",
            "IJKL\n",
            "MNOP\n",
            "Q\n"
          ],
          "name": "stdout"
        }
      ]
    },
    {
      "cell_type": "code",
      "metadata": {
        "colab": {
          "base_uri": "https://localhost:8080/"
        },
        "id": "VyH-QXWMtE9l",
        "outputId": "d0c324b5-c4c5-4fa7-bd4f-b9fbfe55e675"
      },
      "source": [
        "n = 17\r\n",
        "results = []\r\n",
        "for i in range(0,n):\r\n",
        "  d = i\r\n",
        "  o = (oct(i)[2:])\r\n",
        "  h = ((hex(i)[2:]).upper())\r\n",
        "  b = (bin(i)[2:])\r\n",
        "  results.append([d,o,h,b]) \r\n",
        "\r\n",
        "print(results)"
      ],
      "execution_count": null,
      "outputs": [
        {
          "output_type": "stream",
          "text": [
            "[[0, '0', '0', '0'], [1, '1', '1', '1'], [2, '2', '2', '10'], [3, '3', '3', '11'], [4, '4', '4', '100'], [5, '5', '5', '101'], [6, '6', '6', '110'], [7, '7', '7', '111'], [8, '10', '8', '1000'], [9, '11', '9', '1001'], [10, '12', 'A', '1010'], [11, '13', 'B', '1011'], [12, '14', 'C', '1100'], [13, '15', 'D', '1101'], [14, '16', 'E', '1110'], [15, '17', 'F', '1111'], [16, '20', '10', '10000']]\n"
          ],
          "name": "stdout"
        }
      ]
    },
    {
      "cell_type": "code",
      "metadata": {
        "colab": {
          "base_uri": "https://localhost:8080/"
        },
        "id": "4qRHg1-0xFMz",
        "outputId": "479047b1-0ecb-4943-d694-a53787f088f7"
      },
      "source": [
        "s = '123nkl hkkhi'\r\n",
        "s = s.split()\r\n",
        "print(s)\r\n",
        "new = []\r\n",
        "for i in range(0, len(s)):\r\n",
        "  new.append(s[i].capitalize())\r\n",
        "print(' '.join(new))"
      ],
      "execution_count": null,
      "outputs": [
        {
          "output_type": "stream",
          "text": [
            "['123nkl', 'hkkhi']\n",
            "123nkl Hkkhi\n"
          ],
          "name": "stdout"
        }
      ]
    },
    {
      "cell_type": "code",
      "metadata": {
        "colab": {
          "base_uri": "https://localhost:8080/"
        },
        "id": "uMP278pZ99A2",
        "outputId": "06e7bff5-2dad-4f5a-bf02-c75363825071"
      },
      "source": [
        "s = '12abc vbyv'\r\n",
        "print(s.title())"
      ],
      "execution_count": null,
      "outputs": [
        {
          "output_type": "stream",
          "text": [
            "12Abc Vbyv\n"
          ],
          "name": "stdout"
        }
      ]
    },
    {
      "cell_type": "code",
      "metadata": {
        "colab": {
          "base_uri": "https://localhost:8080/"
        },
        "id": "74LX3zdV1ppt",
        "outputId": "18ceab7b-da8b-4ea9-d79c-6093019098e8"
      },
      "source": [
        "s = '123nkl hkkhi'\r\n",
        "s = s.split(' ')\r\n",
        "print(s)"
      ],
      "execution_count": null,
      "outputs": [
        {
          "output_type": "stream",
          "text": [
            "['123nkl', 'hkkhi']\n"
          ],
          "name": "stdout"
        }
      ]
    },
    {
      "cell_type": "code",
      "metadata": {
        "id": "Otgzd9PE5JjI"
      },
      "source": [
        "m = {1,5,7,9}\r\n",
        "n = {5,8,2,10}\r\n"
      ],
      "execution_count": null,
      "outputs": []
    },
    {
      "cell_type": "code",
      "metadata": {
        "colab": {
          "base_uri": "https://localhost:8080/"
        },
        "id": "b29bwXCdCzz9",
        "outputId": "17926e4e-e512-4ed6-df0c-c7aa4cf7e8d1"
      },
      "source": [
        "z = m.symmetric_difference(n)\r\n",
        "print(z)\r\n",
        "z = sorted(z)\r\n",
        "print(z)"
      ],
      "execution_count": null,
      "outputs": [
        {
          "output_type": "stream",
          "text": [
            "{1, 2, 7, 8, 9, 10}\n",
            "[1, 2, 7, 8, 9, 10]\n"
          ],
          "name": "stdout"
        }
      ]
    },
    {
      "cell_type": "code",
      "metadata": {
        "id": "KpCaPUUFDd8v"
      },
      "source": [
        "z = list(z)\r\n",
        "z = z.sort()\r\n",
        "for i in range(0, len(z)):\r\n",
        "  print(z[i])"
      ],
      "execution_count": null,
      "outputs": []
    },
    {
      "cell_type": "code",
      "metadata": {
        "colab": {
          "base_uri": "https://localhost:8080/"
        },
        "id": "vuXqwEse_srr",
        "outputId": "9f3d75a1-6c8c-4e33-cd6c-2eebf2ec6a0d"
      },
      "source": [
        "m = int(input())\r\n",
        "set1 = list(map(int,input().split()))\r\n",
        "n = int(input())\r\n",
        "set2 = list(map(int,input().split()))"
      ],
      "execution_count": null,
      "outputs": [
        {
          "output_type": "stream",
          "text": [
            "4\n",
            "2 8 9 4\n",
            "4\n",
            "10 8 1 0\n"
          ],
          "name": "stdout"
        }
      ]
    },
    {
      "cell_type": "code",
      "metadata": {
        "colab": {
          "base_uri": "https://localhost:8080/",
          "height": 214
        },
        "id": "Nq1t7b7NAmB2",
        "outputId": "03b16d79-531c-48f9-e677-4bbdb3984768"
      },
      "source": [
        "n = int(input())\r\n",
        "s = \r\n",
        "for i in range(0,n):\r\n",
        "  s.append({input().split()})\r\n"
      ],
      "execution_count": null,
      "outputs": [
        {
          "output_type": "stream",
          "text": [
            "2\n"
          ],
          "name": "stdout"
        },
        {
          "output_type": "error",
          "ename": "AttributeError",
          "evalue": "ignored",
          "traceback": [
            "\u001b[0;31m---------------------------------------------------------------------------\u001b[0m",
            "\u001b[0;31mAttributeError\u001b[0m                            Traceback (most recent call last)",
            "\u001b[0;32m<ipython-input-55-412c0409d00a>\u001b[0m in \u001b[0;36m<module>\u001b[0;34m()\u001b[0m\n\u001b[1;32m      2\u001b[0m \u001b[0ms\u001b[0m \u001b[0;34m=\u001b[0m \u001b[0;34m{\u001b[0m\u001b[0;34m}\u001b[0m\u001b[0;34m\u001b[0m\u001b[0;34m\u001b[0m\u001b[0m\n\u001b[1;32m      3\u001b[0m \u001b[0;32mfor\u001b[0m \u001b[0mi\u001b[0m \u001b[0;32min\u001b[0m \u001b[0mrange\u001b[0m\u001b[0;34m(\u001b[0m\u001b[0;36m0\u001b[0m\u001b[0;34m,\u001b[0m\u001b[0mn\u001b[0m\u001b[0;34m)\u001b[0m\u001b[0;34m:\u001b[0m\u001b[0;34m\u001b[0m\u001b[0;34m\u001b[0m\u001b[0m\n\u001b[0;32m----> 4\u001b[0;31m   \u001b[0ms\u001b[0m\u001b[0;34m.\u001b[0m\u001b[0mappend\u001b[0m\u001b[0;34m(\u001b[0m\u001b[0;34m{\u001b[0m\u001b[0minput\u001b[0m\u001b[0;34m(\u001b[0m\u001b[0;34m)\u001b[0m\u001b[0;34m.\u001b[0m\u001b[0msplit\u001b[0m\u001b[0;34m(\u001b[0m\u001b[0;34m)\u001b[0m\u001b[0;34m}\u001b[0m\u001b[0;34m)\u001b[0m\u001b[0;34m\u001b[0m\u001b[0;34m\u001b[0m\u001b[0m\n\u001b[0m",
            "\u001b[0;31mAttributeError\u001b[0m: 'dict' object has no attribute 'append'"
          ]
        }
      ]
    },
    {
      "cell_type": "code",
      "metadata": {
        "colab": {
          "base_uri": "https://localhost:8080/"
        },
        "id": "NKDUAwfNEekk",
        "outputId": "47cdc141-4361-4723-dd1e-a4ac80de7ead"
      },
      "source": [
        "n = int(input())\r\n",
        "country = []\r\n",
        "for i in range(0, n):\r\n",
        "  stamp = input()\r\n",
        "  country.append(stamp)\r\n",
        "\r\n",
        "print(country)"
      ],
      "execution_count": null,
      "outputs": [
        {
          "output_type": "stream",
          "text": [
            "2\n",
            "india\n",
            "india\n",
            "['india', 'india']\n"
          ],
          "name": "stdout"
        }
      ]
    },
    {
      "cell_type": "code",
      "metadata": {
        "colab": {
          "base_uri": "https://localhost:8080/"
        },
        "id": "MVFYcCp74dKi",
        "outputId": "b5df1696-f842-4993-b68f-dc0eba86dce2"
      },
      "source": [
        "new = set(country)\r\n",
        "print(new)"
      ],
      "execution_count": null,
      "outputs": [
        {
          "output_type": "stream",
          "text": [
            "{'india'}\n"
          ],
          "name": "stdout"
        }
      ]
    },
    {
      "cell_type": "code",
      "metadata": {
        "colab": {
          "base_uri": "https://localhost:8080/"
        },
        "id": "1zNoAEU34nSm",
        "outputId": "063671a9-674e-46b1-ba3e-d0dcec758dfc"
      },
      "source": [
        "n1 = 2\r\n",
        "n2 = 3\r\n",
        "t = (n1, n2)\r\n",
        "print(hash(t))"
      ],
      "execution_count": null,
      "outputs": [
        {
          "output_type": "stream",
          "text": [
            "3713082714463740756\n"
          ],
          "name": "stdout"
        }
      ]
    },
    {
      "cell_type": "code",
      "metadata": {
        "colab": {
          "base_uri": "https://localhost:8080/"
        },
        "id": "hYIC6Rex787N",
        "outputId": "d9b1f0b0-a0f0-48c2-9829-3136c79fd7b1"
      },
      "source": [
        " integer_list = map(int, input().split())"
      ],
      "execution_count": null,
      "outputs": [
        {
          "output_type": "stream",
          "text": [
            "2 6\n"
          ],
          "name": "stdout"
        }
      ]
    },
    {
      "cell_type": "code",
      "metadata": {
        "colab": {
          "base_uri": "https://localhost:8080/"
        },
        "id": "3sVdBPzA8DGL",
        "outputId": "4edff34c-a43b-4388-d840-488bdfcf440b"
      },
      "source": [
        "integer_list = tuple(integer_list)\r\n",
        "print(type(integer_list))"
      ],
      "execution_count": null,
      "outputs": [
        {
          "output_type": "stream",
          "text": [
            "<class 'tuple'>\n"
          ],
          "name": "stdout"
        }
      ]
    },
    {
      "cell_type": "code",
      "metadata": {
        "id": "69helzjk8Gtc"
      },
      "source": [
        "from itertools import  product\r\n",
        "a = [1, 2]\r\n",
        "b = [3, 4]"
      ],
      "execution_count": null,
      "outputs": []
    },
    {
      "cell_type": "code",
      "metadata": {
        "colab": {
          "base_uri": "https://localhost:8080/"
        },
        "id": "e_OeJtRFENpV",
        "outputId": "640dfd94-ee92-4664-f57f-233414b2910c"
      },
      "source": [
        "l = list(product(a,b))\r\n",
        "for i in range(0, len(l)):\r\n",
        "  print(l[i], end = ' ')"
      ],
      "execution_count": null,
      "outputs": [
        {
          "output_type": "stream",
          "text": [
            "(1, 3) (1, 4) (2, 3) (2, 4) "
          ],
          "name": "stdout"
        }
      ]
    },
    {
      "cell_type": "code",
      "metadata": {
        "colab": {
          "base_uri": "https://localhost:8080/",
          "height": 197
        },
        "id": "QHK4t49hEUwA",
        "outputId": "e6c61697-e9e0-4e66-fad9-171d78bc3756"
      },
      "source": [
        "A = list(map(int, input()))\r\n",
        "B = list(map(int, input()))"
      ],
      "execution_count": null,
      "outputs": [
        {
          "output_type": "stream",
          "text": [
            "1,2\n"
          ],
          "name": "stdout"
        },
        {
          "output_type": "error",
          "ename": "ValueError",
          "evalue": "ignored",
          "traceback": [
            "\u001b[0;31m---------------------------------------------------------------------------\u001b[0m",
            "\u001b[0;31mValueError\u001b[0m                                Traceback (most recent call last)",
            "\u001b[0;32m<ipython-input-16-393c7d5515a7>\u001b[0m in \u001b[0;36m<module>\u001b[0;34m()\u001b[0m\n\u001b[0;32m----> 1\u001b[0;31m \u001b[0mA\u001b[0m \u001b[0;34m=\u001b[0m \u001b[0mlist\u001b[0m\u001b[0;34m(\u001b[0m\u001b[0mmap\u001b[0m\u001b[0;34m(\u001b[0m\u001b[0mint\u001b[0m\u001b[0;34m,\u001b[0m \u001b[0minput\u001b[0m\u001b[0;34m(\u001b[0m\u001b[0;34m)\u001b[0m\u001b[0;34m)\u001b[0m\u001b[0;34m)\u001b[0m\u001b[0;34m\u001b[0m\u001b[0;34m\u001b[0m\u001b[0m\n\u001b[0m\u001b[1;32m      2\u001b[0m \u001b[0mB\u001b[0m \u001b[0;34m=\u001b[0m \u001b[0mlist\u001b[0m\u001b[0;34m(\u001b[0m\u001b[0mmap\u001b[0m\u001b[0;34m(\u001b[0m\u001b[0mint\u001b[0m\u001b[0;34m,\u001b[0m \u001b[0minput\u001b[0m\u001b[0;34m(\u001b[0m\u001b[0;34m)\u001b[0m\u001b[0;34m)\u001b[0m\u001b[0;34m)\u001b[0m\u001b[0;34m\u001b[0m\u001b[0;34m\u001b[0m\u001b[0m\n",
            "\u001b[0;31mValueError\u001b[0m: invalid literal for int() with base 10: ','"
          ]
        }
      ]
    },
    {
      "cell_type": "code",
      "metadata": {
        "id": "g-mlRWAFFgME",
        "colab": {
          "base_uri": "https://localhost:8080/"
        },
        "outputId": "b188080c-2cbf-4541-e926-d3c51dcea32e"
      },
      "source": [
        "def average(array):\r\n",
        "    # your code goes here\r\n",
        "    heights = set(array)\r\n",
        "    sample = len(heights)   \r\n",
        "    return(sum(heights)/sample)\r\n",
        "\r\n",
        "if __name__ == '__main__':\r\n",
        "    n = int(input())\r\n",
        "    arr = list(map(int, input().split()))\r\n",
        "    result = average(arr)\r\n",
        "    print(result)"
      ],
      "execution_count": null,
      "outputs": [
        {
          "output_type": "stream",
          "text": [
            "5\n",
            "62 14 10 58 14\n",
            "36.0\n"
          ],
          "name": "stdout"
        }
      ]
    },
    {
      "cell_type": "code",
      "metadata": {
        "id": "0tCBbUeUjaTu"
      },
      "source": [
        "d = {}"
      ],
      "execution_count": null,
      "outputs": []
    },
    {
      "cell_type": "code",
      "metadata": {
        "colab": {
          "base_uri": "https://localhost:8080/"
        },
        "id": "WGi3nCCAmylR",
        "outputId": "3e1c5ada-8f98-4a75-dfdc-b1f01441b967"
      },
      "source": [
        "type(d)"
      ],
      "execution_count": null,
      "outputs": [
        {
          "output_type": "execute_result",
          "data": {
            "text/plain": [
              "dict"
            ]
          },
          "metadata": {
            "tags": []
          },
          "execution_count": 5
        }
      ]
    },
    {
      "cell_type": "code",
      "metadata": {
        "id": "6IQtF8uOmz0c"
      },
      "source": [
        "dic =dict()"
      ],
      "execution_count": null,
      "outputs": []
    },
    {
      "cell_type": "code",
      "metadata": {
        "colab": {
          "base_uri": "https://localhost:8080/"
        },
        "id": "3PYWCuJmm3ua",
        "outputId": "0d156987-340b-414e-a016-8d7617641373"
      },
      "source": [
        "type(dic)"
      ],
      "execution_count": null,
      "outputs": [
        {
          "output_type": "execute_result",
          "data": {
            "text/plain": [
              "dict"
            ]
          },
          "metadata": {
            "tags": []
          },
          "execution_count": 7
        }
      ]
    },
    {
      "cell_type": "code",
      "metadata": {
        "id": "fFkjlmTym5es"
      },
      "source": [
        "dic = {\r\n",
        "    'hello': 5,\r\n",
        "    'bye': 10,\r\n",
        "    'hi': 4,\r\n",
        "     'see-you': 8\r\n",
        "}"
      ],
      "execution_count": null,
      "outputs": []
    },
    {
      "cell_type": "code",
      "metadata": {
        "colab": {
          "base_uri": "https://localhost:8080/"
        },
        "id": "Q7U3VcBAnHI0",
        "outputId": "eaba424b-a549-4173-c26d-c1b852dec0b9"
      },
      "source": [
        "print(dic)"
      ],
      "execution_count": null,
      "outputs": [
        {
          "output_type": "stream",
          "text": [
            "{'hello': 5, 'bye': 10, 'hi': 4, 'see-you': 8}\n"
          ],
          "name": "stdout"
        }
      ]
    },
    {
      "cell_type": "code",
      "metadata": {
        "id": "VLrs9OLYnIei"
      },
      "source": [
        "l1 = ['upo', 'ritu', 'rimi', 'sayak', 'sam']"
      ],
      "execution_count": null,
      "outputs": []
    },
    {
      "cell_type": "code",
      "metadata": {
        "id": "nCkjrQL_ngzo"
      },
      "source": [
        "l2 = [50, 48, 53, 78, 40]"
      ],
      "execution_count": null,
      "outputs": []
    },
    {
      "cell_type": "code",
      "metadata": {
        "id": "iFLPDNN1nk5h"
      },
      "source": [
        "dic = dict(zip(l1,l2))"
      ],
      "execution_count": null,
      "outputs": []
    },
    {
      "cell_type": "code",
      "metadata": {
        "colab": {
          "base_uri": "https://localhost:8080/"
        },
        "id": "sSD5hYMcnraG",
        "outputId": "997e13c2-50a8-4938-b569-df0d29a80988"
      },
      "source": [
        "print(dic)"
      ],
      "execution_count": null,
      "outputs": [
        {
          "output_type": "stream",
          "text": [
            "{'upo': 50, 'ritu': 48, 'rimi': 53, 'sayak': 78, 'sam': 40}\n"
          ],
          "name": "stdout"
        }
      ]
    },
    {
      "cell_type": "code",
      "metadata": {
        "colab": {
          "base_uri": "https://localhost:8080/"
        },
        "id": "K-R5ZVdKnsxl",
        "outputId": "cae89345-495d-4a02-b7d3-47c320b0ddf6"
      },
      "source": [
        "dic.items()"
      ],
      "execution_count": null,
      "outputs": [
        {
          "output_type": "execute_result",
          "data": {
            "text/plain": [
              "dict_items([('upo', 50), ('ritu', 48), ('rimi', 53), ('sayak', 78), ('sam', 40)])"
            ]
          },
          "metadata": {
            "tags": []
          },
          "execution_count": 14
        }
      ]
    },
    {
      "cell_type": "code",
      "metadata": {
        "colab": {
          "base_uri": "https://localhost:8080/"
        },
        "id": "D-k7gN6QoLeV",
        "outputId": "cf129b17-458d-4bc2-fa07-f9f5863ee5d1"
      },
      "source": [
        "for key, val in dic.items():\r\n",
        "  print(key, \" : \", val)"
      ],
      "execution_count": null,
      "outputs": [
        {
          "output_type": "stream",
          "text": [
            "upo  :  50\n",
            "ritu  :  48\n",
            "rimi  :  53\n",
            "sayak  :  78\n",
            "sam  :  40\n"
          ],
          "name": "stdout"
        }
      ]
    },
    {
      "cell_type": "code",
      "metadata": {
        "id": "ocMtOcgsoU_T",
        "colab": {
          "base_uri": "https://localhost:8080/"
        },
        "outputId": "7758c1ab-257c-4178-b968-7a052a38c3b6"
      },
      "source": [
        "n = int(input('enter the number: '))\r\n",
        "\r\n",
        "a= 1\r\n",
        "\r\n",
        "b= 1\r\n",
        "\r\n",
        "for i in range(1, n+1):\r\n",
        "\r\n",
        "    if(i%2!=0):\r\n",
        "\r\n",
        "       \r\n",
        "\r\n",
        "        a = a*2\r\n",
        "\r\n",
        "    else:      \r\n",
        "\r\n",
        "        b = b*3\r\n",
        "\r\n",
        "if(n%2!=0):\r\n",
        "\r\n",
        "    print('\\n{} term of series is {}\\t'.format(n,a/2))\r\n",
        "\r\n",
        "else:\r\n",
        "\r\n",
        "    print('\\n{} term of series is {}\\t'.format(n,a/2))"
      ],
      "execution_count": null,
      "outputs": [
        {
          "output_type": "stream",
          "text": [
            "enter the number: 7\n",
            "\n",
            "7 term of series is 8.0\t\n"
          ],
          "name": "stdout"
        }
      ]
    },
    {
      "cell_type": "code",
      "metadata": {
        "colab": {
          "base_uri": "https://localhost:8080/"
        },
        "id": "n26FKBsPP0qb",
        "outputId": "d261f5c9-abbf-4503-c9ba-533fdf8f9e81"
      },
      "source": [
        "n = int(input(()))\r\n"
      ],
      "execution_count": null,
      "outputs": [
        {
          "output_type": "stream",
          "text": [
            "15\n"
          ],
          "name": "stdout"
        }
      ]
    },
    {
      "cell_type": "code",
      "metadata": {
        "colab": {
          "base_uri": "https://localhost:8080/"
        },
        "id": "Nb9L_itJWJB7",
        "outputId": "513401f4-ffa0-4c07-f24c-bc4868719c78"
      },
      "source": [
        "if(n%2 == 0):\r\n",
        "  diff = n - (n/2 - 1)\r\n",
        "  val = n - diff\r\n",
        "  print(int(val))\r\n",
        "else:\r\n",
        "  print(int(n-1))"
      ],
      "execution_count": null,
      "outputs": [
        {
          "output_type": "stream",
          "text": [
            "14\n"
          ],
          "name": "stdout"
        }
      ]
    },
    {
      "cell_type": "code",
      "metadata": {
        "colab": {
          "base_uri": "https://localhost:8080/"
        },
        "id": "hBDHMgffWSeR",
        "outputId": "1830eb06-55fc-460d-f55f-55735fd4bba8"
      },
      "source": [
        "n = int(input())\r\n",
        "words = []\r\n",
        "for i in range(0, n):\r\n",
        "  words.append(input())"
      ],
      "execution_count": null,
      "outputs": [
        {
          "output_type": "stream",
          "text": [
            "3\n",
            "yes\n",
            "no\n",
            "maybe\n"
          ],
          "name": "stdout"
        }
      ]
    },
    {
      "cell_type": "code",
      "metadata": {
        "colab": {
          "base_uri": "https://localhost:8080/"
        },
        "id": "E5rPkTfIbVT8",
        "outputId": "4a0a4c9a-2715-4f29-db63-3bb3a6a631cf"
      },
      "source": [
        "s1 = words[0]\r\n",
        "s2 = words[1]\r\n",
        "s3 = words[2]\r\n",
        "vowels = 'AEIOUaeiou'\r\n",
        "for ele in vowels: \r\n",
        "        s1 = s1.replace(ele, '%') \r\n",
        "\r\n",
        "if ele not in vowels:\r\n",
        "        s2 = s2.replace(ele, '#')\r\n",
        "s3 = s3.upper()\r\n",
        "print(s1+s2+s3)"
      ],
      "execution_count": null,
      "outputs": [
        {
          "output_type": "stream",
          "text": [
            "y%snoMAYBEE\n"
          ],
          "name": "stdout"
        }
      ]
    },
    {
      "cell_type": "code",
      "metadata": {
        "colab": {
          "base_uri": "https://localhost:8080/",
          "height": 35
        },
        "id": "yxWJAhrJcgO9",
        "outputId": "8b9a21ae-d5f6-48b3-86da-c22d0264fb49"
      },
      "source": [
        "words[2][1]"
      ],
      "execution_count": null,
      "outputs": [
        {
          "output_type": "execute_result",
          "data": {
            "application/vnd.google.colaboratory.intrinsic+json": {
              "type": "string"
            },
            "text/plain": [
              "'a'"
            ]
          },
          "metadata": {
            "tags": []
          },
          "execution_count": 32
        }
      ]
    },
    {
      "cell_type": "code",
      "metadata": {
        "colab": {
          "base_uri": "https://localhost:8080/"
        },
        "id": "HNfoAZVCcuD4",
        "outputId": "99085560-00bb-4d89-a82d-4a6610e6c301"
      },
      "source": [
        "for i in words[0]:\r\n",
        "  print('%')"
      ],
      "execution_count": null,
      "outputs": [
        {
          "output_type": "stream",
          "text": [
            "%\n"
          ],
          "name": "stdout"
        }
      ]
    },
    {
      "cell_type": "code",
      "metadata": {
        "id": "1M3a_xVWcz-m",
        "colab": {
          "base_uri": "https://localhost:8080/"
        },
        "outputId": "ad84a5b5-e7df-4a8a-d03b-86b648923e92"
      },
      "source": [
        "s1 = words[0]\r\n",
        "s2 = words[1]\r\n",
        "s3 = words[2]\r\n",
        "s = ''\r\n",
        "vowels = 'AEIOUaeiou'\r\n",
        "for ele in s1: \r\n",
        "        if(ele in vowels):\r\n",
        "          s = s+ '%'\r\n",
        "        else:\r\n",
        "          s = s + ele\r\n",
        "for ele in s2: \r\n",
        "        if(ele not in vowels):\r\n",
        "          s = s+ '#'\r\n",
        "        else:\r\n",
        "          s = s + ele\r\n",
        "s3 = s3.upper()\r\n",
        "s = s+s3\r\n",
        "print(s)"
      ],
      "execution_count": null,
      "outputs": [
        {
          "output_type": "stream",
          "text": [
            "y%s#oMAYBE\n"
          ],
          "name": "stdout"
        }
      ]
    },
    {
      "cell_type": "code",
      "metadata": {
        "colab": {
          "base_uri": "https://localhost:8080/"
        },
        "id": "MPSDioSF8FJK",
        "outputId": "7a58343a-939e-4740-b831-382fe8ce56e9"
      },
      "source": [
        "s1 = words[0]\r\n",
        "s2 = words[1]\r\n",
        "s3 = words[2]\r\n",
        "s = ''\r\n",
        "vowels = 'AEIOUaeiou'\r\n",
        "for ele in s1: \r\n",
        "        if(ele in vowels):\r\n",
        "          s = '%' + s\r\n",
        "        else:\r\n",
        "          s = ele + s\r\n",
        "print(s)"
      ],
      "execution_count": null,
      "outputs": [
        {
          "output_type": "stream",
          "text": [
            "s%y\n"
          ],
          "name": "stdout"
        }
      ]
    },
    {
      "cell_type": "code",
      "metadata": {
        "colab": {
          "base_uri": "https://localhost:8080/"
        },
        "id": "7tvf_OEZ-BZ4",
        "outputId": "01602554-7362-4d26-a4fc-3a5d8b480b50"
      },
      "source": [
        "n1 = int(input())\r\n",
        "n2 = float(input())\r\n"
      ],
      "execution_count": null,
      "outputs": [
        {
          "output_type": "stream",
          "text": [
            "10\n",
            "20.39\n"
          ],
          "name": "stdout"
        }
      ]
    },
    {
      "cell_type": "code",
      "metadata": {
        "colab": {
          "base_uri": "https://localhost:8080/"
        },
        "id": "CvzYgp3FBouR",
        "outputId": "c274c11f-030e-4ab1-d83b-049fc0eda0d0"
      },
      "source": [
        "print(float(n1)+n2)"
      ],
      "execution_count": null,
      "outputs": [
        {
          "output_type": "stream",
          "text": [
            "30.39\n"
          ],
          "name": "stdout"
        }
      ]
    },
    {
      "cell_type": "code",
      "metadata": {
        "colab": {
          "base_uri": "https://localhost:8080/",
          "height": 214
        },
        "id": "za5B3LggBtV9",
        "outputId": "dc9ecc49-c332-4376-e692-8d5ae8e105d9"
      },
      "source": [
        "\r\n",
        "num = str(input())\r\n",
        "print(int(num,17))"
      ],
      "execution_count": null,
      "outputs": [
        {
          "output_type": "stream",
          "text": [
            "23 GF\n"
          ],
          "name": "stdout"
        },
        {
          "output_type": "error",
          "ename": "ValueError",
          "evalue": "ignored",
          "traceback": [
            "\u001b[0;31m---------------------------------------------------------------------------\u001b[0m",
            "\u001b[0;31mValueError\u001b[0m                                Traceback (most recent call last)",
            "\u001b[0;32m<ipython-input-13-aee78ea78bea>\u001b[0m in \u001b[0;36m<module>\u001b[0;34m()\u001b[0m\n\u001b[1;32m      1\u001b[0m \u001b[0;34m\u001b[0m\u001b[0m\n\u001b[1;32m      2\u001b[0m \u001b[0mnum\u001b[0m \u001b[0;34m=\u001b[0m \u001b[0mstr\u001b[0m\u001b[0;34m(\u001b[0m\u001b[0minput\u001b[0m\u001b[0;34m(\u001b[0m\u001b[0;34m)\u001b[0m\u001b[0;34m.\u001b[0m\u001b[0msplit\u001b[0m\u001b[0;34m(\u001b[0m\u001b[0;34m)\u001b[0m\u001b[0;34m)\u001b[0m\u001b[0;34m\u001b[0m\u001b[0;34m\u001b[0m\u001b[0m\n\u001b[0;32m----> 3\u001b[0;31m \u001b[0mprint\u001b[0m\u001b[0;34m(\u001b[0m\u001b[0mint\u001b[0m\u001b[0;34m(\u001b[0m\u001b[0mnum\u001b[0m\u001b[0;34m,\u001b[0m\u001b[0;36m17\u001b[0m\u001b[0;34m)\u001b[0m\u001b[0;34m)\u001b[0m\u001b[0;34m\u001b[0m\u001b[0;34m\u001b[0m\u001b[0m\n\u001b[0m",
            "\u001b[0;31mValueError\u001b[0m: invalid literal for int() with base 17: \"['23', 'GF']\""
          ]
        }
      ]
    },
    {
      "cell_type": "code",
      "metadata": {
        "colab": {
          "base_uri": "https://localhost:8080/"
        },
        "id": "ByNwWl4tCD5J",
        "outputId": "708ee973-93e2-4a25-8a38-16ebed9f4725"
      },
      "source": [
        "n = input()\r\n"
      ],
      "execution_count": null,
      "outputs": [
        {
          "output_type": "stream",
          "text": [
            "4567\n"
          ],
          "name": "stdout"
        }
      ]
    },
    {
      "cell_type": "code",
      "metadata": {
        "colab": {
          "base_uri": "https://localhost:8080/"
        },
        "id": "HNgYKDd5HYqC",
        "outputId": "660c3aa7-4181-47a3-e580-a1dc752c57fe"
      },
      "source": [
        "even = 0\r\n",
        "odd = 0\r\n",
        "for i in range(0, len(n)):\r\n",
        "  if(i % 2 == 0):\r\n",
        "    even = even + int(n[i])\r\n",
        "  else:\r\n",
        "    odd = odd + int(n[i])\r\n",
        "\r\n",
        "print(abs(even - odd))"
      ],
      "execution_count": null,
      "outputs": [
        {
          "output_type": "stream",
          "text": [
            "2\n"
          ],
          "name": "stdout"
        }
      ]
    },
    {
      "cell_type": "code",
      "metadata": {
        "id": "gVwXdPaUIVdz"
      },
      "source": [
        "keywords = [\"break\", \"case\", \"continue\", \"default\", \"defer\", \"else\",\"for\", \r\n",
        "    \"func\", \"goto\", \"if\", \"map\", \"range\", \"return\", \"struct\", \"type\", \"var\"\r\n",
        "]"
      ],
      "execution_count": null,
      "outputs": []
    },
    {
      "cell_type": "code",
      "metadata": {
        "colab": {
          "base_uri": "https://localhost:8080/"
        },
        "id": "H5C-2UYmJN-7",
        "outputId": "9c54813e-2530-4b82-8d3a-217923532119"
      },
      "source": [
        "string = input()\r\n"
      ],
      "execution_count": null,
      "outputs": [
        {
          "output_type": "stream",
          "text": [
            "map\n"
          ],
          "name": "stdout"
        }
      ]
    },
    {
      "cell_type": "code",
      "metadata": {
        "colab": {
          "base_uri": "https://localhost:8080/"
        },
        "id": "fNCYyuyVJT1H",
        "outputId": "7c6944b8-6f73-454d-927e-7839971dd17a"
      },
      "source": [
        "if string in keywords:\r\n",
        "  print(\"Yes\")\r\n",
        "else:\r\n",
        "  print(\"No\")"
      ],
      "execution_count": null,
      "outputs": [
        {
          "output_type": "stream",
          "text": [
            "Yes\n"
          ],
          "name": "stdout"
        }
      ]
    },
    {
      "cell_type": "code",
      "metadata": {
        "colab": {
          "base_uri": "https://localhost:8080/"
        },
        "id": "ZLQIuVCxJbwY",
        "outputId": "98e513c0-8ead-45ea-cdd3-390b794115e8"
      },
      "source": [
        "n = int(input())"
      ],
      "execution_count": null,
      "outputs": [
        {
          "output_type": "stream",
          "text": [
            "5\n"
          ],
          "name": "stdout"
        }
      ]
    },
    {
      "cell_type": "code",
      "metadata": {
        "colab": {
          "base_uri": "https://localhost:8080/"
        },
        "id": "mIviIc5zNPIF",
        "outputId": "872dda25-b0c4-4cab-ca9c-c7baf6b1c7d3"
      },
      "source": [
        "if (n%2 == 0):\r\n",
        "  p = (n - int(n/2)) - 1\r\n",
        "  val = pow(3, p)\r\n",
        "  print(val)\r\n",
        "\r\n",
        "else:\r\n",
        "  p = int(n/2)\r\n",
        "  val = pow(2, p)\r\n",
        "  print(val)\r\n",
        "   "
      ],
      "execution_count": null,
      "outputs": [
        {
          "output_type": "stream",
          "text": [
            "4\n"
          ],
          "name": "stdout"
        }
      ]
    },
    {
      "cell_type": "code",
      "metadata": {
        "colab": {
          "base_uri": "https://localhost:8080/"
        },
        "id": "bckCtryZNziM",
        "outputId": "25f0a25f-77fa-48e8-f389-180a48a5fd19"
      },
      "source": [
        "n1 = int(input())\r\n",
        "n2 = int(input())\r\n"
      ],
      "execution_count": null,
      "outputs": [
        {
          "output_type": "stream",
          "text": [
            "0\n",
            "50\n"
          ],
          "name": "stdout"
        }
      ]
    },
    {
      "cell_type": "code",
      "metadata": {
        "id": "gnhYnX2GPxJS",
        "colab": {
          "base_uri": "https://localhost:8080/"
        },
        "outputId": "8d6b2001-3e2e-40f4-d917-921ca0c5d789"
      },
      "source": [
        "def find_hcf(n1,n2):\r\n",
        "  hcf = 0\r\n",
        "  if(n1>n2):\r\n",
        "    small = n2\r\n",
        "  else:\r\n",
        "    small = n1\r\n",
        "  for i in range(1, small + 1):\r\n",
        "    if(n1%i == 0  and n2 % i == 0):\r\n",
        "         hcf = i\r\n",
        "         \r\n",
        "  return hcf\r\n",
        "\r\n",
        "gcd = find_hcf(n1,n2)\r\n",
        "print(\"GCD: \", gcd)\r\n"
      ],
      "execution_count": null,
      "outputs": [
        {
          "output_type": "stream",
          "text": [
            "GCD:  0\n"
          ],
          "name": "stdout"
        }
      ]
    },
    {
      "cell_type": "code",
      "metadata": {
        "colab": {
          "base_uri": "https://localhost:8080/"
        },
        "id": "mKK_q6I2VS9h",
        "outputId": "ab2770a9-bdc8-4435-f3b7-fe3524c42bc3"
      },
      "source": [
        "if gcd == 0:\r\n",
        "  lcm = n1 * n2\r\n",
        "else:\r\n",
        "  lcm = (n1 * n2)/gcd\r\n",
        "print(int(lcm))"
      ],
      "execution_count": null,
      "outputs": [
        {
          "output_type": "stream",
          "text": [
            "0\n"
          ],
          "name": "stdout"
        }
      ]
    },
    {
      "cell_type": "code",
      "metadata": {
        "id": "yi_8n9m2QOlP",
        "colab": {
          "base_uri": "https://localhost:8080/"
        },
        "outputId": "cd5ca03d-c3ad-4978-a6ab-fa5772fcf5ae"
      },
      "source": [
        "# Python program to find H.C.F of two numbers\r\n",
        "\r\n",
        "# define a function\r\n",
        "def compute_hcf(x, y):\r\n",
        "\r\n",
        "# choose the smaller number\r\n",
        "    if x > y:\r\n",
        "        smaller = y\r\n",
        "    else:\r\n",
        "        smaller = x\r\n",
        "    for i in range(1, smaller+1):\r\n",
        "        if((x % i == 0) and (y % i == 0)):\r\n",
        "            hcf = i \r\n",
        "    return hcf\r\n",
        "\r\n",
        "num1 = 54 \r\n",
        "num2 = 24\r\n",
        "\r\n",
        "print(\"The H.C.F. is\", compute_hcf(num1, num2))"
      ],
      "execution_count": null,
      "outputs": [
        {
          "output_type": "stream",
          "text": [
            "The H.C.F. is 6\n"
          ],
          "name": "stdout"
        }
      ]
    },
    {
      "cell_type": "code",
      "metadata": {
        "id": "Z_3flb3TUixF"
      },
      "source": [
        ""
      ],
      "execution_count": null,
      "outputs": []
    }
  ]
}